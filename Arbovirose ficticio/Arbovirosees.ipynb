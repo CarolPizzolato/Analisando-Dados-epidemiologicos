{
 "cells": [
  {
   "cell_type": "code",
   "execution_count": null,
   "id": "aadc1fa8",
   "metadata": {},
   "outputs": [
    {
     "name": "stdout",
     "output_type": "stream",
     "text": [
      "fim try\n"
     ]
    }
   ],
   "source": [
    "import pandas as pd\n",
    "try:\n",
    " dadosEp = pd.read_csv(r\"C:\\Users\\User\\Documents\\PythonGithub\\Pandas\\Analisando Dados epidemiologicos\\dados_epidemiologicos.csv\")\n",
    " municipio = pd.read_csv(r\"C:\\Users\\User\\Documents\\PythonGithub\\Pandas\\Analisando Dados epidemiologicos\\municipios_obitos.csv\")\n",
    " \n",
    " \n",
    "except FileExistsError:\n",
    "    print('erro arquivo não encontrado')\n",
    "finally:\n",
    "    print('fim try')"
   ]
  },
  {
   "cell_type": "code",
   "execution_count": 7,
   "id": "12b96523",
   "metadata": {},
   "outputs": [
    {
     "data": {
      "text/html": [
       "<div>\n",
       "<style scoped>\n",
       "    .dataframe tbody tr th:only-of-type {\n",
       "        vertical-align: middle;\n",
       "    }\n",
       "\n",
       "    .dataframe tbody tr th {\n",
       "        vertical-align: top;\n",
       "    }\n",
       "\n",
       "    .dataframe thead th {\n",
       "        text-align: right;\n",
       "    }\n",
       "</style>\n",
       "<table border=\"1\" class=\"dataframe\">\n",
       "  <thead>\n",
       "    <tr style=\"text-align: right;\">\n",
       "      <th></th>\n",
       "      <th>data_notificacao</th>\n",
       "      <th>regiao</th>\n",
       "      <th>sexo</th>\n",
       "      <th>idade</th>\n",
       "      <th>doenca</th>\n",
       "      <th>casos</th>\n",
       "      <th>obitos</th>\n",
       "    </tr>\n",
       "  </thead>\n",
       "  <tbody>\n",
       "    <tr>\n",
       "      <th>0</th>\n",
       "      <td>2024-01-01</td>\n",
       "      <td>Sudeste</td>\n",
       "      <td>F</td>\n",
       "      <td>34</td>\n",
       "      <td>Dengue</td>\n",
       "      <td>5</td>\n",
       "      <td>0</td>\n",
       "    </tr>\n",
       "    <tr>\n",
       "      <th>1</th>\n",
       "      <td>2024-01-01</td>\n",
       "      <td>Sudeste</td>\n",
       "      <td>M</td>\n",
       "      <td>45</td>\n",
       "      <td>Dengue</td>\n",
       "      <td>3</td>\n",
       "      <td>1</td>\n",
       "    </tr>\n",
       "    <tr>\n",
       "      <th>2</th>\n",
       "      <td>2024-01-01</td>\n",
       "      <td>Norte</td>\n",
       "      <td>F</td>\n",
       "      <td>22</td>\n",
       "      <td>Zika</td>\n",
       "      <td>2</td>\n",
       "      <td>0</td>\n",
       "    </tr>\n",
       "    <tr>\n",
       "      <th>3</th>\n",
       "      <td>2024-01-02</td>\n",
       "      <td>Sul</td>\n",
       "      <td>M</td>\n",
       "      <td>60</td>\n",
       "      <td>Dengue</td>\n",
       "      <td>6</td>\n",
       "      <td>2</td>\n",
       "    </tr>\n",
       "    <tr>\n",
       "      <th>4</th>\n",
       "      <td>2024-01-02</td>\n",
       "      <td>Centro-Oeste</td>\n",
       "      <td>F</td>\n",
       "      <td>37</td>\n",
       "      <td>Chikungunya</td>\n",
       "      <td>1</td>\n",
       "      <td>0</td>\n",
       "    </tr>\n",
       "  </tbody>\n",
       "</table>\n",
       "</div>"
      ],
      "text/plain": [
       "  data_notificacao        regiao sexo  idade       doenca  casos  obitos\n",
       "0       2024-01-01       Sudeste    F     34       Dengue      5       0\n",
       "1       2024-01-01       Sudeste    M     45       Dengue      3       1\n",
       "2       2024-01-01         Norte    F     22         Zika      2       0\n",
       "3       2024-01-02           Sul    M     60       Dengue      6       2\n",
       "4       2024-01-02  Centro-Oeste    F     37  Chikungunya      1       0"
      ]
     },
     "execution_count": 7,
     "metadata": {},
     "output_type": "execute_result"
    }
   ],
   "source": [
    "dadosEp.head()\n"
   ]
  },
  {
   "cell_type": "code",
   "execution_count": 8,
   "id": "8c47e7b4",
   "metadata": {},
   "outputs": [
    {
     "data": {
      "text/html": [
       "<div>\n",
       "<style scoped>\n",
       "    .dataframe tbody tr th:only-of-type {\n",
       "        vertical-align: middle;\n",
       "    }\n",
       "\n",
       "    .dataframe tbody tr th {\n",
       "        vertical-align: top;\n",
       "    }\n",
       "\n",
       "    .dataframe thead th {\n",
       "        text-align: right;\n",
       "    }\n",
       "</style>\n",
       "<table border=\"1\" class=\"dataframe\">\n",
       "  <thead>\n",
       "    <tr style=\"text-align: right;\">\n",
       "      <th></th>\n",
       "      <th>municipio</th>\n",
       "      <th>doenca</th>\n",
       "      <th>obitos</th>\n",
       "    </tr>\n",
       "  </thead>\n",
       "  <tbody>\n",
       "    <tr>\n",
       "      <th>0</th>\n",
       "      <td>São Paulo</td>\n",
       "      <td>Dengue</td>\n",
       "      <td>0</td>\n",
       "    </tr>\n",
       "    <tr>\n",
       "      <th>1</th>\n",
       "      <td>São Paulo</td>\n",
       "      <td>Dengue</td>\n",
       "      <td>1</td>\n",
       "    </tr>\n",
       "    <tr>\n",
       "      <th>2</th>\n",
       "      <td>Manaus</td>\n",
       "      <td>Zika</td>\n",
       "      <td>0</td>\n",
       "    </tr>\n",
       "    <tr>\n",
       "      <th>3</th>\n",
       "      <td>Porto Alegre</td>\n",
       "      <td>Dengue</td>\n",
       "      <td>2</td>\n",
       "    </tr>\n",
       "    <tr>\n",
       "      <th>4</th>\n",
       "      <td>Goiânia</td>\n",
       "      <td>Chikungunya</td>\n",
       "      <td>0</td>\n",
       "    </tr>\n",
       "  </tbody>\n",
       "</table>\n",
       "</div>"
      ],
      "text/plain": [
       "      municipio       doenca  obitos\n",
       "0     São Paulo       Dengue       0\n",
       "1     São Paulo       Dengue       1\n",
       "2        Manaus         Zika       0\n",
       "3  Porto Alegre       Dengue       2\n",
       "4       Goiânia  Chikungunya       0"
      ]
     },
     "execution_count": 8,
     "metadata": {},
     "output_type": "execute_result"
    }
   ],
   "source": [
    "municipio.head()"
   ]
  },
  {
   "cell_type": "code",
   "execution_count": 11,
   "id": "7f3e8fa3",
   "metadata": {},
   "outputs": [
    {
     "data": {
      "text/plain": [
       "doenca\n",
       "Chikungunya    0\n",
       "Dengue         4\n",
       "Zika           1\n",
       "Name: obitos_regiao, dtype: int64"
      ]
     },
     "execution_count": 11,
     "metadata": {},
     "output_type": "execute_result"
    }
   ],
   "source": [
    "obitos_regiao = dadosEp.groupby(\"doenca\")[\"obitos\"].sum().rename(\"obitos_regiao\")\n",
    "obitos_regiao.head()"
   ]
  },
  {
   "cell_type": "code",
   "execution_count": 17,
   "id": "533aaed7",
   "metadata": {},
   "outputs": [
    {
     "name": "stdout",
     "output_type": "stream",
     "text": [
      "sexo\n",
      "F    5\n",
      "M    4\n",
      "Name: count, dtype: int64\n"
     ]
    }
   ],
   "source": [
    "#quero somar quantos generos tem na tabela\n",
    "generos = dadosEp['sexo'].value_counts()\n",
    "print (generos)"
   ]
  },
  {
   "cell_type": "code",
   "execution_count": 19,
   "id": "0afe5ff3",
   "metadata": {},
   "outputs": [
    {
     "data": {
      "text/plain": [
       "sexo\n",
       "F    1\n",
       "M    4\n",
       "Name: obitos, dtype: int64"
      ]
     },
     "execution_count": 19,
     "metadata": {},
     "output_type": "execute_result"
    }
   ],
   "source": [
    "#quantas mortes ocorreram por genero?\n",
    "\n",
    "morte_genero = dadosEp.groupby(\"sexo\")[\"obitos\"].sum()\n",
    "morte_genero.head()"
   ]
  },
  {
   "cell_type": "code",
   "execution_count": null,
   "id": "ecc68e8a",
   "metadata": {},
   "outputs": [],
   "source": []
  }
 ],
 "metadata": {
  "kernelspec": {
   "display_name": "Python 3",
   "language": "python",
   "name": "python3"
  },
  "language_info": {
   "codemirror_mode": {
    "name": "ipython",
    "version": 3
   },
   "file_extension": ".py",
   "mimetype": "text/x-python",
   "name": "python",
   "nbconvert_exporter": "python",
   "pygments_lexer": "ipython3",
   "version": "3.13.2"
  }
 },
 "nbformat": 4,
 "nbformat_minor": 5
}
